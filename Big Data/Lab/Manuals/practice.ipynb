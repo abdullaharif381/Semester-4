{
 "cells": [
  {
   "cell_type": "code",
   "execution_count": 50,
   "id": "b88d01fc",
   "metadata": {},
   "outputs": [
    {
     "name": "stdout",
     "output_type": "stream",
     "text": [
      "Write a text: Ooogle\n",
      "o@@gle\n"
     ]
    }
   ],
   "source": [
    "def replace_alphabets(text, old_alphabet, new_alphabet):\n",
    "    translation_table = str.maketrans(old_alphabet, new_alphabet)\n",
    "    return text.translate(translation_table)\n",
    "\n",
    "text = \"Ooogle\".lower()\n",
    "text = str(input(\"Write a text: \")).lower()\n",
    "old_alphabet = text[0]\n",
    "new_alphabet = '@'\n",
    "modified_text = replace_alphabets(text[1:], old_alphabet, new_alphabet)\n",
    "print(text[0]+modified_text)\n",
    "\n"
   ]
  },
  {
   "cell_type": "code",
   "execution_count": 51,
   "id": "ae703453",
   "metadata": {},
   "outputs": [
    {
     "name": "stdout",
     "output_type": "stream",
     "text": [
      "pox mid\n",
      "dig donner\n"
     ]
    }
   ],
   "source": [
    "def string_jumble(a, b):\n",
    "    # Swap the first 2 characters of each string\n",
    "    new_a = b[:2] + a[2:]\n",
    "    new_b = a[:2] + b[2:]\n",
    "    \n",
    "    # Concatenate the strings with a space between them\n",
    "    new_string = new_a + ' ' + new_b\n",
    "    \n",
    "    return new_string\n",
    "\n",
    "# Test cases\n",
    "print(string_jumble('mix', 'pod'))     # Output: pox mid\n",
    "print(string_jumble('dog', 'dinner'))  # Output: dig donner\n"
   ]
  },
  {
   "cell_type": "code",
   "execution_count": null,
   "id": "92477888",
   "metadata": {},
   "outputs": [],
   "source": []
  }
 ],
 "metadata": {
  "kernelspec": {
   "display_name": "Python 3 (ipykernel)",
   "language": "python",
   "name": "python3"
  },
  "language_info": {
   "codemirror_mode": {
    "name": "ipython",
    "version": 3
   },
   "file_extension": ".py",
   "mimetype": "text/x-python",
   "name": "python",
   "nbconvert_exporter": "python",
   "pygments_lexer": "ipython3",
   "version": "3.9.13"
  }
 },
 "nbformat": 4,
 "nbformat_minor": 5
}
