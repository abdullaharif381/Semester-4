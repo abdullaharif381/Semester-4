{
 "cells": [
  {
   "cell_type": "code",
   "execution_count": 104,
   "id": "b12b6a02",
   "metadata": {},
   "outputs": [],
   "source": [
    "# fpr arithematics on arrays\n",
    "import numpy as np\n",
    "\n",
    "# for dataframe manipulation\n",
    "import pandas as pd\n",
    "\n",
    "# for visualization\n",
    "import matplotlib as plt\n",
    "\n",
    "# for splitting the dataset into train and testing\n",
    "from sklearn.model_selection import train_test_split\n",
    "\n",
    "# to change the target value to numerics\n",
    "from sklearn.preprocessing import LabelEncoder\n",
    "\n",
    "# making standardized X\n",
    "from sklearn.preprocessing import MinMaxScaler\n",
    "\n",
    "# accuracy metrics\n",
    "from sklearn.metrics import accuracy_score, f1_score\n",
    "\n",
    "# different models for classification\n",
    "from sklearn.linear_model import LogisticRegression\n",
    "from sklearn.tree import DecisionTreeClassifier\n",
    "from sklearn.ensemble import RandomForestClassifier\n",
    "from sklearn.svm import SVC\n",
    "from sklearn.neighbors import KNeighborsClassifier\n",
    "from xgboost import XGBClassifier"
   ]
  },
  {
   "cell_type": "markdown",
   "id": "a5d95f67",
   "metadata": {},
   "source": [
    "### Loading the dataset"
   ]
  },
  {
   "cell_type": "code",
   "execution_count": 105,
   "id": "da6f8d35",
   "metadata": {},
   "outputs": [],
   "source": [
    "df = pd.read_csv(\"lab-2-farms.csv\")"
   ]
  },
  {
   "cell_type": "code",
   "execution_count": 106,
   "id": "353e2520",
   "metadata": {},
   "outputs": [
    {
     "data": {
      "text/html": [
       "<div>\n",
       "<style scoped>\n",
       "    .dataframe tbody tr th:only-of-type {\n",
       "        vertical-align: middle;\n",
       "    }\n",
       "\n",
       "    .dataframe tbody tr th {\n",
       "        vertical-align: top;\n",
       "    }\n",
       "\n",
       "    .dataframe thead th {\n",
       "        text-align: right;\n",
       "    }\n",
       "</style>\n",
       "<table border=\"1\" class=\"dataframe\">\n",
       "  <thead>\n",
       "    <tr style=\"text-align: right;\">\n",
       "      <th></th>\n",
       "      <th>Series_reference</th>\n",
       "      <th>Period</th>\n",
       "      <th>Data_value</th>\n",
       "      <th>STATUS</th>\n",
       "      <th>UNITS</th>\n",
       "      <th>MAGNTUDE</th>\n",
       "      <th>Subject</th>\n",
       "      <th>Group</th>\n",
       "      <th>Series_title_1</th>\n",
       "      <th>Series_title_2</th>\n",
       "      <th>Series_title_3</th>\n",
       "      <th>Series_title_4</th>\n",
       "      <th>Series_title_5</th>\n",
       "    </tr>\n",
       "  </thead>\n",
       "  <tbody>\n",
       "    <tr>\n",
       "      <th>0</th>\n",
       "      <td>SNEA.SG01NAC16P10A11</td>\n",
       "      <td>2007.03</td>\n",
       "      <td>526</td>\n",
       "      <td>FINAL</td>\n",
       "      <td>Dollar</td>\n",
       "      <td>6</td>\n",
       "      <td>National Accounts - SNA 2008 - SNE</td>\n",
       "      <td>Series, GDP(P), Nominal, Actual, Agricultural ...</td>\n",
       "      <td>Output</td>\n",
       "      <td>Wool</td>\n",
       "      <td>NaN</td>\n",
       "      <td>NaN</td>\n",
       "      <td>NaN</td>\n",
       "    </tr>\n",
       "    <tr>\n",
       "      <th>1</th>\n",
       "      <td>SNEA.SG01NAC16P10A11</td>\n",
       "      <td>2008.03</td>\n",
       "      <td>482</td>\n",
       "      <td>FINAL</td>\n",
       "      <td>Dollar</td>\n",
       "      <td>6</td>\n",
       "      <td>National Accounts - SNA 2008 - SNE</td>\n",
       "      <td>Series, GDP(P), Nominal, Actual, Agricultural ...</td>\n",
       "      <td>Output</td>\n",
       "      <td>Wool</td>\n",
       "      <td>NaN</td>\n",
       "      <td>NaN</td>\n",
       "      <td>NaN</td>\n",
       "    </tr>\n",
       "  </tbody>\n",
       "</table>\n",
       "</div>"
      ],
      "text/plain": [
       "       Series_reference   Period  Data_value STATUS   UNITS  MAGNTUDE  \\\n",
       "0  SNEA.SG01NAC16P10A11  2007.03         526  FINAL  Dollar         6   \n",
       "1  SNEA.SG01NAC16P10A11  2008.03         482  FINAL  Dollar         6   \n",
       "\n",
       "                              Subject  \\\n",
       "0  National Accounts - SNA 2008 - SNE   \n",
       "1  National Accounts - SNA 2008 - SNE   \n",
       "\n",
       "                                               Group Series_title_1  \\\n",
       "0  Series, GDP(P), Nominal, Actual, Agricultural ...         Output   \n",
       "1  Series, GDP(P), Nominal, Actual, Agricultural ...         Output   \n",
       "\n",
       "  Series_title_2  Series_title_3  Series_title_4  Series_title_5  \n",
       "0           Wool             NaN             NaN             NaN  \n",
       "1           Wool             NaN             NaN             NaN  "
      ]
     },
     "execution_count": 106,
     "metadata": {},
     "output_type": "execute_result"
    }
   ],
   "source": [
    "df.head(2)"
   ]
  },
  {
   "cell_type": "markdown",
   "id": "aa09d5a7",
   "metadata": {},
   "source": [
    "### Overview of data"
   ]
  },
  {
   "cell_type": "code",
   "execution_count": 107,
   "id": "6c720161",
   "metadata": {
    "scrolled": true
   },
   "outputs": [
    {
     "data": {
      "text/html": [
       "<div>\n",
       "<style scoped>\n",
       "    .dataframe tbody tr th:only-of-type {\n",
       "        vertical-align: middle;\n",
       "    }\n",
       "\n",
       "    .dataframe tbody tr th {\n",
       "        vertical-align: top;\n",
       "    }\n",
       "\n",
       "    .dataframe thead th {\n",
       "        text-align: right;\n",
       "    }\n",
       "</style>\n",
       "<table border=\"1\" class=\"dataframe\">\n",
       "  <thead>\n",
       "    <tr style=\"text-align: right;\">\n",
       "      <th></th>\n",
       "      <th>Period</th>\n",
       "      <th>Data_value</th>\n",
       "      <th>MAGNTUDE</th>\n",
       "      <th>Series_title_3</th>\n",
       "      <th>Series_title_4</th>\n",
       "      <th>Series_title_5</th>\n",
       "    </tr>\n",
       "  </thead>\n",
       "  <tbody>\n",
       "    <tr>\n",
       "      <th>count</th>\n",
       "      <td>420.000000</td>\n",
       "      <td>420.000000</td>\n",
       "      <td>420.0</td>\n",
       "      <td>0.0</td>\n",
       "      <td>0.0</td>\n",
       "      <td>0.0</td>\n",
       "    </tr>\n",
       "    <tr>\n",
       "      <th>mean</th>\n",
       "      <td>2013.530000</td>\n",
       "      <td>2376.026190</td>\n",
       "      <td>6.0</td>\n",
       "      <td>NaN</td>\n",
       "      <td>NaN</td>\n",
       "      <td>NaN</td>\n",
       "    </tr>\n",
       "    <tr>\n",
       "      <th>std</th>\n",
       "      <td>4.035936</td>\n",
       "      <td>4840.409542</td>\n",
       "      <td>0.0</td>\n",
       "      <td>NaN</td>\n",
       "      <td>NaN</td>\n",
       "      <td>NaN</td>\n",
       "    </tr>\n",
       "    <tr>\n",
       "      <th>min</th>\n",
       "      <td>2007.030000</td>\n",
       "      <td>-244.000000</td>\n",
       "      <td>6.0</td>\n",
       "      <td>NaN</td>\n",
       "      <td>NaN</td>\n",
       "      <td>NaN</td>\n",
       "    </tr>\n",
       "    <tr>\n",
       "      <th>25%</th>\n",
       "      <td>2010.030000</td>\n",
       "      <td>221.000000</td>\n",
       "      <td>6.0</td>\n",
       "      <td>NaN</td>\n",
       "      <td>NaN</td>\n",
       "      <td>NaN</td>\n",
       "    </tr>\n",
       "    <tr>\n",
       "      <th>50%</th>\n",
       "      <td>2013.530000</td>\n",
       "      <td>715.500000</td>\n",
       "      <td>6.0</td>\n",
       "      <td>NaN</td>\n",
       "      <td>NaN</td>\n",
       "      <td>NaN</td>\n",
       "    </tr>\n",
       "    <tr>\n",
       "      <th>75%</th>\n",
       "      <td>2017.030000</td>\n",
       "      <td>2108.250000</td>\n",
       "      <td>6.0</td>\n",
       "      <td>NaN</td>\n",
       "      <td>NaN</td>\n",
       "      <td>NaN</td>\n",
       "    </tr>\n",
       "    <tr>\n",
       "      <th>max</th>\n",
       "      <td>2020.030000</td>\n",
       "      <td>30370.000000</td>\n",
       "      <td>6.0</td>\n",
       "      <td>NaN</td>\n",
       "      <td>NaN</td>\n",
       "      <td>NaN</td>\n",
       "    </tr>\n",
       "  </tbody>\n",
       "</table>\n",
       "</div>"
      ],
      "text/plain": [
       "            Period    Data_value  MAGNTUDE  Series_title_3  Series_title_4  \\\n",
       "count   420.000000    420.000000     420.0             0.0             0.0   \n",
       "mean   2013.530000   2376.026190       6.0             NaN             NaN   \n",
       "std       4.035936   4840.409542       0.0             NaN             NaN   \n",
       "min    2007.030000   -244.000000       6.0             NaN             NaN   \n",
       "25%    2010.030000    221.000000       6.0             NaN             NaN   \n",
       "50%    2013.530000    715.500000       6.0             NaN             NaN   \n",
       "75%    2017.030000   2108.250000       6.0             NaN             NaN   \n",
       "max    2020.030000  30370.000000       6.0             NaN             NaN   \n",
       "\n",
       "       Series_title_5  \n",
       "count             0.0  \n",
       "mean              NaN  \n",
       "std               NaN  \n",
       "min               NaN  \n",
       "25%               NaN  \n",
       "50%               NaN  \n",
       "75%               NaN  \n",
       "max               NaN  "
      ]
     },
     "execution_count": 107,
     "metadata": {},
     "output_type": "execute_result"
    }
   ],
   "source": [
    "df.describe()"
   ]
  },
  {
   "cell_type": "code",
   "execution_count": 108,
   "id": "b799983e",
   "metadata": {},
   "outputs": [
    {
     "name": "stdout",
     "output_type": "stream",
     "text": [
      "<class 'pandas.core.frame.DataFrame'>\n",
      "RangeIndex: 420 entries, 0 to 419\n",
      "Data columns (total 13 columns):\n",
      " #   Column            Non-Null Count  Dtype  \n",
      "---  ------            --------------  -----  \n",
      " 0   Series_reference  420 non-null    object \n",
      " 1   Period            420 non-null    float64\n",
      " 2   Data_value        420 non-null    int64  \n",
      " 3   STATUS            420 non-null    object \n",
      " 4   UNITS             420 non-null    object \n",
      " 5   MAGNTUDE          420 non-null    int64  \n",
      " 6   Subject           420 non-null    object \n",
      " 7   Group             420 non-null    object \n",
      " 8   Series_title_1    420 non-null    object \n",
      " 9   Series_title_2    420 non-null    object \n",
      " 10  Series_title_3    0 non-null      float64\n",
      " 11  Series_title_4    0 non-null      float64\n",
      " 12  Series_title_5    0 non-null      float64\n",
      "dtypes: float64(4), int64(2), object(7)\n",
      "memory usage: 42.8+ KB\n"
     ]
    }
   ],
   "source": [
    "df.info()"
   ]
  },
  {
   "cell_type": "markdown",
   "id": "98792290",
   "metadata": {},
   "source": []
  },
  {
   "cell_type": "code",
   "execution_count": 109,
   "id": "663ec91a",
   "metadata": {},
   "outputs": [],
   "source": [
    "df.dropna(how = \"any\", axis = 1, inplace = True)\n",
    "df.dropna(how = \"any\", axis = 0, inplace = True)\n",
    "df.drop_duplicates(inplace = True)"
   ]
  },
  {
   "cell_type": "code",
   "execution_count": 110,
   "id": "a33a91a9",
   "metadata": {},
   "outputs": [
    {
     "name": "stdout",
     "output_type": "stream",
     "text": [
      "unique counts:  29 \n",
      " Series_title_2\n",
      "Total                                                 28\n",
      "Wool                                                  14\n",
      "Value of Change in Livestock - Pigs, Deer and Goat    14\n",
      "Other input N.E.C.                                    14\n",
      "Freight                                               14\n",
      "Repairs and Maintenance                               14\n",
      "Fuel and Power                                        14\n",
      "Fertiliser, Lime and Seeds                            14\n",
      "Weed and Pest Control                                 14\n",
      "Animal Health and Breeding                            14\n",
      "Feed and Grazing                                      14\n",
      "Purchase of Livestock                                 14\n",
      "Non-Farm Income                                       14\n",
      "Sale of Live Animals                                  14\n",
      "Value of Change in Stocks - Timber                    14\n",
      "Sheep                                                 14\n",
      "Value of Change in Livestock - Cattle                 14\n",
      "Value of Change in Livestock - Sheep                  14\n",
      "Other Products N.E.C.                                 14\n",
      "Agricultural Services                                 14\n",
      "Other Horticultural Products                          14\n",
      "Vegetables                                            14\n",
      "Fruit, Nuts and Oil seeds                             14\n",
      "Crops and Seeds                                       14\n",
      "Poultry Products                                      14\n",
      "Dairy Products                                        14\n",
      "Pigs                                                  14\n",
      "Cattle                                                14\n",
      "Capitalised Development                               14\n",
      "Name: count, dtype: int64\n"
     ]
    }
   ],
   "source": [
    "X = df.iloc[:,1:3]\n",
    "y = df[\"Series_title_2\"]\n",
    "print(\"unique counts: \", y.nunique(),\"\\n\",y.value_counts())\n"
   ]
  },
  {
   "cell_type": "code",
   "execution_count": 111,
   "id": "aed0e429",
   "metadata": {},
   "outputs": [
    {
     "name": "stdout",
     "output_type": "stream",
     "text": [
      "Encoded data: [28 28 28 28 28 28 28 28 28 28 28 28 28 28 20 20 20 20 20 20 20 20 20 20\n",
      " 20 20 20 20  3  3  3  3  3  3  3  3  3  3  3  3  3  3 15 15 15 15 15 15\n",
      " 15 15 15 15 15 15 15 15  5  5  5  5  5  5  5  5  5  5  5  5  5  5 16 16\n",
      " 16 16 16 16 16 16 16 16 16 16 16 16  4  4  4  4  4  4  4  4  4  4  4  4\n",
      "  4  4  9  9  9  9  9  9  9  9  9  9  9  9  9  9 26 26 26 26 26 26 26 26\n",
      " 26 26 26 26 26 26 12 12 12 12 12 12 12 12 12 12 12 12 12 12  0  0  0  0\n",
      "  0  0  0  0  0  0  0  0  0  0 13 13 13 13 13 13 13 13 13 13 13 13 13 13\n",
      " 24 24 24 24 24 24 24 24 24 24 24 24 24 24 22 22 22 22 22 22 22 22 22 22\n",
      " 22 22 22 22 25 25 25 25 25 25 25 25 25 25 25 25 25 25 23 23 23 23 23 23\n",
      " 23 23 23 23 23 23 23 23 19 19 19 19 19 19 19 19 19 19 19 19 19 19 11 11\n",
      " 11 11 11 11 11 11 11 11 11 11 11 11 21 21 21 21 21 21 21 21 21 21 21 21\n",
      " 21 21 17 17 17 17 17 17 17 17 17 17 17 17 17 17  6  6  6  6  6  6  6  6\n",
      "  6  6  6  6  6  6  1  1  1  1  1  1  1  1  1  1  1  1  1  1 27 27 27 27\n",
      " 27 27 27 27 27 27 27 27 27 27  7  7  7  7  7  7  7  7  7  7  7  7  7  7\n",
      " 10 10 10 10 10 10 10 10 10 10 10 10 10 10 18 18 18 18 18 18 18 18 18 18\n",
      " 18 18 18 18  8  8  8  8  8  8  8  8  8  8  8  8  8  8 14 14 14 14 14 14\n",
      " 14 14 14 14 14 14 14 14  2  2  2  2  2  2  2  2  2  2  2  2  2  2 21 21\n",
      " 21 21 21 21 21 21 21 21 21 21 21 21]\n"
     ]
    }
   ],
   "source": [
    "# Initialize LabelEncoder\n",
    "label_encoder = LabelEncoder()\n",
    "# Fit and transform the categorical data\n",
    "y = label_encoder.fit_transform(y)\n",
    "print(\"Encoded data:\", y)\n"
   ]
  },
  {
   "cell_type": "code",
   "execution_count": null,
   "id": "e38a448c",
   "metadata": {},
   "outputs": [],
   "source": []
  },
  {
   "cell_type": "code",
   "execution_count": null,
   "id": "42dc696c",
   "metadata": {
    "scrolled": true
   },
   "outputs": [],
   "source": []
  },
  {
   "cell_type": "code",
   "execution_count": 112,
   "id": "aba6d42c",
   "metadata": {},
   "outputs": [],
   "source": [
    "X_train, X_test, y_train, y_test = train_test_split(X,y,test_size = 0.2, random_state = 42)"
   ]
  },
  {
   "cell_type": "code",
   "execution_count": 113,
   "id": "6ec58951",
   "metadata": {},
   "outputs": [],
   "source": [
    "models = {\n",
    "    'Logistic Regression': LogisticRegression(),\n",
    "    'Decision Tree': DecisionTreeClassifier(),\n",
    "    'Random Forest': RandomForestClassifier(),\n",
    "    'SVM': SVC(),\n",
    "    'KNN': KNeighborsClassifier(),\n",
    "    'XGBoost': XGBClassifier(),\n",
    "}\n"
   ]
  },
  {
   "cell_type": "code",
   "execution_count": 114,
   "id": "dc48a4e5",
   "metadata": {},
   "outputs": [
    {
     "name": "stderr",
     "output_type": "stream",
     "text": [
      "C:\\Users\\AB\\anaconda3\\lib\\site-packages\\sklearn\\linear_model\\_logistic.py:460: ConvergenceWarning: lbfgs failed to converge (status=1):\n",
      "STOP: TOTAL NO. of ITERATIONS REACHED LIMIT.\n",
      "\n",
      "Increase the number of iterations (max_iter) or scale the data as shown in:\n",
      "    https://scikit-learn.org/stable/modules/preprocessing.html\n",
      "Please also refer to the documentation for alternative solver options:\n",
      "    https://scikit-learn.org/stable/modules/linear_model.html#logistic-regression\n",
      "  n_iter_i = _check_optimize_result(\n"
     ]
    },
    {
     "name": "stdout",
     "output_type": "stream",
     "text": [
      "Model Comparison:\n",
      "Logistic Regression: Accuracy = 0.3333, F1 Score = 0.2783\n",
      "Decision Tree: Accuracy = 0.3571, F1 Score = 0.3509\n",
      "Random Forest: Accuracy = 0.0595, F1 Score = 0.0698\n",
      "SVM: Accuracy = 0.0595, F1 Score = 0.0711\n",
      "KNN: Accuracy = 0.2500, F1 Score = 0.2405\n",
      "XGBoost: Accuracy = 0.2976, F1 Score = 0.2828\n",
      "\n",
      "The best model is Decision Tree with an accuracy of 0.3571.\n"
     ]
    }
   ],
   "source": [
    "for name, model in models.items():\n",
    "    model.fit(X_train, y_train)\n",
    "\n",
    "# Step 3: Test all the models\n",
    "results = {}\n",
    "for name, model in models.items():\n",
    "    y_pred = model.predict(X_test)\n",
    "    accuracy = accuracy_score(y_test, y_pred)\n",
    "    f1 = f1_score(y_test, y_pred, average='weighted')\n",
    "    results[name] = {'Accuracy': accuracy, 'F1 Score': f1}\n",
    "\n",
    "# Step 4: Compare results\n",
    "print(\"Model Comparison:\")\n",
    "for name, metrics in results.items():\n",
    "    print(f\"{name}: Accuracy = {metrics['Accuracy']:.4f}, F1 Score = {metrics['F1 Score']:.4f}\")\n",
    "\n",
    "# Step 5: Decide the best model\n",
    "best_model = max(results, key=lambda x: results[x]['Accuracy'])\n",
    "print(f\"\\nThe best model is {best_model} with an accuracy of {results[best_model]['Accuracy']:.4f}.\")"
   ]
  },
  {
   "cell_type": "code",
   "execution_count": 115,
   "id": "15b54c8f",
   "metadata": {},
   "outputs": [
    {
     "name": "stdout",
     "output_type": "stream",
     "text": [
      "Model Comparison:\n",
      "Logistic Regression: Accuracy = 0.3333, Precision = 0.2960, Recall = 0.3333, F1 Score = 0.2783\n",
      "Decision Tree: Accuracy = 0.3571, Precision = 0.4044, Recall = 0.3571, F1 Score = 0.3509\n",
      "Random Forest: Accuracy = 0.0595, Precision = 0.0845, Recall = 0.0595, F1 Score = 0.0698\n",
      "SVM: Accuracy = 0.0595, Precision = 0.1060, Recall = 0.0595, F1 Score = 0.0711\n",
      "KNN: Accuracy = 0.2500, Precision = 0.3538, Recall = 0.2500, F1 Score = 0.2405\n",
      "XGBoost: Accuracy = 0.2976, Precision = 0.4750, Recall = 0.2976, F1 Score = 0.2828\n",
      "\n",
      "The best model is Decision Tree with an accuracy of 0.3571.\n"
     ]
    },
    {
     "name": "stderr",
     "output_type": "stream",
     "text": [
      "C:\\Users\\AB\\anaconda3\\lib\\site-packages\\sklearn\\metrics\\_classification.py:1471: UndefinedMetricWarning: Precision is ill-defined and being set to 0.0 in labels with no predicted samples. Use `zero_division` parameter to control this behavior.\n",
      "  _warn_prf(average, modifier, msg_start, len(result))\n",
      "C:\\Users\\AB\\anaconda3\\lib\\site-packages\\sklearn\\metrics\\_classification.py:1471: UndefinedMetricWarning: Recall is ill-defined and being set to 0.0 in labels with no true samples. Use `zero_division` parameter to control this behavior.\n",
      "  _warn_prf(average, modifier, msg_start, len(result))\n",
      "C:\\Users\\AB\\anaconda3\\lib\\site-packages\\sklearn\\metrics\\_classification.py:1471: UndefinedMetricWarning: Precision is ill-defined and being set to 0.0 in labels with no predicted samples. Use `zero_division` parameter to control this behavior.\n",
      "  _warn_prf(average, modifier, msg_start, len(result))\n",
      "C:\\Users\\AB\\anaconda3\\lib\\site-packages\\sklearn\\metrics\\_classification.py:1471: UndefinedMetricWarning: Recall is ill-defined and being set to 0.0 in labels with no true samples. Use `zero_division` parameter to control this behavior.\n",
      "  _warn_prf(average, modifier, msg_start, len(result))\n",
      "C:\\Users\\AB\\anaconda3\\lib\\site-packages\\sklearn\\metrics\\_classification.py:1471: UndefinedMetricWarning: Recall is ill-defined and being set to 0.0 in labels with no true samples. Use `zero_division` parameter to control this behavior.\n",
      "  _warn_prf(average, modifier, msg_start, len(result))\n",
      "C:\\Users\\AB\\anaconda3\\lib\\site-packages\\sklearn\\metrics\\_classification.py:1471: UndefinedMetricWarning: Precision is ill-defined and being set to 0.0 in labels with no predicted samples. Use `zero_division` parameter to control this behavior.\n",
      "  _warn_prf(average, modifier, msg_start, len(result))\n",
      "C:\\Users\\AB\\anaconda3\\lib\\site-packages\\sklearn\\metrics\\_classification.py:1471: UndefinedMetricWarning: Recall is ill-defined and being set to 0.0 in labels with no true samples. Use `zero_division` parameter to control this behavior.\n",
      "  _warn_prf(average, modifier, msg_start, len(result))\n",
      "C:\\Users\\AB\\anaconda3\\lib\\site-packages\\sklearn\\metrics\\_classification.py:1471: UndefinedMetricWarning: Precision is ill-defined and being set to 0.0 in labels with no predicted samples. Use `zero_division` parameter to control this behavior.\n",
      "  _warn_prf(average, modifier, msg_start, len(result))\n",
      "C:\\Users\\AB\\anaconda3\\lib\\site-packages\\sklearn\\metrics\\_classification.py:1471: UndefinedMetricWarning: Recall is ill-defined and being set to 0.0 in labels with no true samples. Use `zero_division` parameter to control this behavior.\n",
      "  _warn_prf(average, modifier, msg_start, len(result))\n",
      "C:\\Users\\AB\\anaconda3\\lib\\site-packages\\sklearn\\metrics\\_classification.py:1471: UndefinedMetricWarning: Precision is ill-defined and being set to 0.0 in labels with no predicted samples. Use `zero_division` parameter to control this behavior.\n",
      "  _warn_prf(average, modifier, msg_start, len(result))\n",
      "C:\\Users\\AB\\anaconda3\\lib\\site-packages\\sklearn\\metrics\\_classification.py:1471: UndefinedMetricWarning: Recall is ill-defined and being set to 0.0 in labels with no true samples. Use `zero_division` parameter to control this behavior.\n",
      "  _warn_prf(average, modifier, msg_start, len(result))\n"
     ]
    }
   ],
   "source": [
    "from sklearn.metrics import precision_score, recall_score, f1_score\n",
    "\n",
    "# Step 3: Test all the models\n",
    "results = {}\n",
    "metrics = ['Accuracy', 'Precision', 'Recall', 'F1 Score']\n",
    "for name, model in models.items():\n",
    "    y_pred = model.predict(X_test)\n",
    "    accuracy = accuracy_score(y_test, y_pred)\n",
    "    precision = precision_score(y_test, y_pred, average='weighted')\n",
    "    recall = recall_score(y_test, y_pred, average='weighted')\n",
    "    f1 = f1_score(y_test, y_pred, average='weighted')\n",
    "    results[name] = {'Accuracy': accuracy, 'Precision': precision, 'Recall': recall, 'F1 Score': f1}\n",
    "\n",
    "# Step 4: Compare results\n",
    "print(\"Model Comparison:\")\n",
    "for name, metrics in results.items():\n",
    "    print(f\"{name}: Accuracy = {metrics['Accuracy']:.4f}, Precision = {metrics['Precision']:.4f}, Recall = {metrics['Recall']:.4f}, F1 Score = {metrics['F1 Score']:.4f}\")\n",
    "\n",
    "# Step 5: Decide the best model\n",
    "best_model = max(results, key=lambda x: results[x]['Accuracy'])\n",
    "print(f\"\\nThe best model is {best_model} with an accuracy of {results[best_model]['Accuracy']:.4f}.\")\n"
   ]
  },
  {
   "cell_type": "code",
   "execution_count": null,
   "id": "cfe87958",
   "metadata": {},
   "outputs": [],
   "source": []
  }
 ],
 "metadata": {
  "kernelspec": {
   "display_name": "Python 3 (ipykernel)",
   "language": "python",
   "name": "python3"
  },
  "language_info": {
   "codemirror_mode": {
    "name": "ipython",
    "version": 3
   },
   "file_extension": ".py",
   "mimetype": "text/x-python",
   "name": "python",
   "nbconvert_exporter": "python",
   "pygments_lexer": "ipython3",
   "version": "3.9.13"
  }
 },
 "nbformat": 4,
 "nbformat_minor": 5
}
